{
  "nbformat": 4,
  "nbformat_minor": 0,
  "metadata": {
    "colab": {
      "provenance": []
    },
    "kernelspec": {
      "name": "python3",
      "display_name": "Python 3"
    },
    "language_info": {
      "name": "python"
    }
  },
  "cells": [
    {
      "cell_type": "code",
      "execution_count": 15,
      "metadata": {
        "colab": {
          "base_uri": "https://localhost:8080/"
        },
        "id": "Sty9_WFESTnK",
        "outputId": "ac80911e-6f63-4f88-dd30-a6ff7b6742a3"
      },
      "outputs": [
        {
          "output_type": "stream",
          "name": "stdout",
          "text": [
            "Drive already mounted at /content/drive; to attempt to forcibly remount, call drive.mount(\"/content/drive\", force_remount=True).\n"
          ]
        }
      ],
      "source": [
        " from google.colab import drive\n",
        "drive.mount('/content/drive')\n"
      ]
    },
    {
      "cell_type": "code",
      "source": [
        "# dataframes\n",
        "import pandas as pd # import pandas and load the dataset into a dataframe.\n",
        "import seaborn as sns # Importing the Seaborn library and giving it a shorter name 'sns'\n",
        "import matplotlib.pyplot as plt # Importing the 'pyplot' module from the Matplotlib library, calling it 'plt'\n",
        "import numpy as np\n",
        "\n",
        "\n",
        "from sklearn.model_selection import train_test_split\n",
        "from sklearn.naive_bayes import GaussianNB\n",
        "from sklearn import metrics\n",
        "\n",
        "path_to_csv= '/content/drive/MyDrive/Colab Notebooks/tested.csv'\n",
        "\n",
        "df = pd.read_csv(path_to_csv)"
      ],
      "metadata": {
        "id": "0nXknnuPSou8"
      },
      "execution_count": 20,
      "outputs": []
    },
    {
      "cell_type": "code",
      "source": [
        "df.dropna(inplace=True)"
      ],
      "metadata": {
        "id": "DnUN4sWpSwhK"
      },
      "execution_count": 21,
      "outputs": []
    },
    {
      "cell_type": "code",
      "source": [
        "# Step 4: Selecting features (X) and target (Y)\n",
        "# In Titanic dataset, 'Survived' is the target\n",
        "# Selecting features: 'Pclass', 'Sex', 'Age', 'Fare', 'Embarked' (example features)\n",
        "X = df[['Pclass', 'Sex', 'Age', 'Fare', 'Embarked']]\n",
        "Y = df['Survived']"
      ],
      "metadata": {
        "id": "QyL8AGBAT6aE"
      },
      "execution_count": 22,
      "outputs": []
    },
    {
      "cell_type": "code",
      "source": [
        "# Step 5: Convert categorical features to numeric using pd.get_dummies() and ensure boolean columns are converted to integers\n",
        "X = pd.get_dummies(X, drop_first=True).astype(int)\n",
        "print(\"\\nFeatures after converting categorical columns to numeric (as integers):\")\n",
        "print(X.head())  # Show the first 5 rows of the processed features\n"
      ],
      "metadata": {
        "colab": {
          "base_uri": "https://localhost:8080/"
        },
        "id": "rg-bfaorUEC_",
        "outputId": "719d2e62-d475-4bb8-e2bf-54b4cbc1a246"
      },
      "execution_count": 23,
      "outputs": [
        {
          "output_type": "stream",
          "name": "stdout",
          "text": [
            "\n",
            "Features after converting categorical columns to numeric (as integers):\n",
            "    Pclass  Age  Fare  Sex_male  Embarked_Q  Embarked_S\n",
            "12       1   23    82         0           0           1\n",
            "14       1   47    61         0           0           1\n",
            "24       1   48   262         0           0           0\n",
            "26       1   22    61         0           0           0\n",
            "28       1   41    30         1           0           1\n"
          ]
        }
      ]
    },
    {
      "cell_type": "code",
      "source": [
        "# Step 6: Split the dataset into training and testing sets (60% training, 40% testing )\n",
        "X_train, X_test, Y_train, Y_test = train_test_split(X, Y, test_size=0.2, random_state=1)\n",
        "\n",
        "print(\"\\nTraining and Testing Set Sizes:\")\n",
        "print(f\"Training set: {X_train.shape}, Testing set: {X_test.shape}\")"
      ],
      "metadata": {
        "colab": {
          "base_uri": "https://localhost:8080/"
        },
        "id": "TwrHdzL3Vq2E",
        "outputId": "9c896a17-f6fc-4581-ad07-459faf532f04"
      },
      "execution_count": 24,
      "outputs": [
        {
          "output_type": "stream",
          "name": "stdout",
          "text": [
            "\n",
            "Training and Testing Set Sizes:\n",
            "Training set: (69, 6), Testing set: (18, 6)\n"
          ]
        }
      ]
    },
    {
      "cell_type": "code",
      "source": [
        "# Step 7: Train the Gaussian Naive Bayes model on the training data\n",
        "gnb = GaussianNB()\n",
        "gnb.fit(X_train, Y_train)\n",
        "print(\"\\nModel training completed.\")"
      ],
      "metadata": {
        "colab": {
          "base_uri": "https://localhost:8080/"
        },
        "id": "K3KJh7cVWVQI",
        "outputId": "ab1569dc-f9e1-42d7-f140-374ee721035d"
      },
      "execution_count": 25,
      "outputs": [
        {
          "output_type": "stream",
          "name": "stdout",
          "text": [
            "\n",
            "Model training completed.\n"
          ]
        }
      ]
    },
    {
      "cell_type": "code",
      "source": [
        "# Step 8: Make predictions on the test data\n",
        "Y_pred = gnb.predict(X_test)\n",
        "print(\"\\nPredictions on the test set:\")\n",
        "print(Y_pred[:10])  # Show first 10 predictions\n"
      ],
      "metadata": {
        "colab": {
          "base_uri": "https://localhost:8080/"
        },
        "id": "3TaUOXXbZKoW",
        "outputId": "b06d7811-047f-44e9-cf7a-569bbea9592a"
      },
      "execution_count": 26,
      "outputs": [
        {
          "output_type": "stream",
          "name": "stdout",
          "text": [
            "\n",
            "Predictions on the test set:\n",
            "[1 1 1 1 0 0 1 1 1 0]\n"
          ]
        }
      ]
    },
    {
      "cell_type": "code",
      "source": [
        "# Step 9: Compute the accuracy of the model\n",
        "accuracy = metrics.accuracy_score(Y_test, Y_pred)\n",
        "print(f\"\\nGaussian Naive Bayes model accuracy (in %): {accuracy * 100:.2f}%\")"
      ],
      "metadata": {
        "colab": {
          "base_uri": "https://localhost:8080/"
        },
        "id": "8dUMoG9SZVcN",
        "outputId": "a0bc6859-098b-4607-9f21-8162fabdc17f"
      },
      "execution_count": 27,
      "outputs": [
        {
          "output_type": "stream",
          "name": "stdout",
          "text": [
            "\n",
            "Gaussian Naive Bayes model accuracy (in %): 100.00%\n"
          ]
        }
      ]
    }
  ]
}